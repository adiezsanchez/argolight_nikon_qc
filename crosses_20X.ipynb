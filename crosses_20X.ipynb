{
 "cells": [
  {
   "cell_type": "markdown",
   "metadata": {},
   "source": [
    "Stage repeatability"
   ]
  },
  {
   "cell_type": "code",
   "execution_count": 1,
   "metadata": {},
   "outputs": [],
   "source": [
    "from pathlib import Path\n",
    "import os\n",
    "import nd2\n",
    "import numpy as np\n",
    "import napari\n",
    "import pandas as pd\n",
    "from utils import plots_results_on_image, calculate_colocalization, calculate_props, extract_labels, save_bar_graph\n",
    "import plotly.express as px"
   ]
  },
  {
   "cell_type": "code",
   "execution_count": 5,
   "metadata": {},
   "outputs": [
    {
     "name": "stdout",
     "output_type": "stream",
     "text": [
      "Channel Name: AR_green\n",
      "Index: 0\n",
      "Emission Lambda: 511.0\n",
      "Excitation Lambda: 477.0\n",
      "Objective Name: S Plan Fluor LWD 20xC\n",
      "Modality Flags: fluorescence, spinningDiskConfocal\n",
      "XYZ_pixel_size: (0.330313846974365, 0.330313846974365, 1.0)\n",
      "\n",
      "{'description': 'Metadata:\\r\\nDimensions: T(109) x XY(6) x λ(1)\\r\\nCamera Name: Kinetix, A24B723015\\r\\nNumerical Aperture: 0.7\\r\\nRefractive Index: 1\\r\\n Name: AR_green\\r\\n Component Count: 1\\r\\n Relay Lens Magnification: 1x\\r\\n Modality: Widefield Fluorescence, Spinning Disk Confocal\\r\\n Camera Settings:   Binning: 1x1\\r\\n  Bit Depth: 12-bit\\r\\n  Exposure: 150 ms\\r\\n  Readout Speed: 100.0MHz\\r\\n  Multiplier: Off\\r\\n  Camera Mode: 12-bit (CMS)\\r\\n  Temperature: 0.0°C\\r\\n  \\r\\n  Conversion Gain: Sensitivity\\r\\n  Denoise.ai OFF\\r\\n  Clarify.ai OFF\\r\\n  Denoising: Off\\r\\n  Fan Speed: High\\r\\n\\r\\n Microscope Settings:   Microscope: Ti2 Microscope\\r\\n  DIC Prism, position: In\\r\\n  Nikon Ti2, FilterChanger(Turret-Lo): 1 (Empty)\\r\\n  LightPath: L100\\r\\n  PFS, mirror: Inserted\\r\\n  Zoom: 1.00x\\r\\n  X-Light, FilterChanger(DM Wheel): 1 (MXR00543 - CELESTA-DA/FI/TR/Cy5/Cy7-A (DAPI / FITC / TRITC / Cy5 / Cy7 - Full Multiband Penta) (FF421/491/567/659/776-Di01) (Di))\\r\\n  X-Light, FilterChanger(EM Wheel): 4 (511/20)\\r\\n  X-Light, FilterChanger(EX Wheel): 1 (MXR00543 - CELESTA-DA/FI/TR/Cy5/Cy7-A (DAPI / FITC / TRITC / Cy5 / Cy7 - Full Multiband Penta) (FF01-391/477/549/639/741) (Ex))\\r\\n  X-Light, FilterChanger(DualCam Splitter): 1 (DIA)\\r\\n  Illumination Iris: 100 \\r\\n  Emission Iris: 88.2 \\r\\n  X-Light Switcher:\\r\\n     Port 2: On \\r\\n  \\r\\n  SpectraIII/Celesta/Ziva, Shutter(Celesta): Active\\r\\n  SpectraIII/Celesta/Ziva, MultiLaser(Celesta):\\r\\n     Line:1; ExW:405; Power:  6.0; On\\r\\n\\r\\nTime Loop: 109\\r\\n‐ Equidistant (Period 600000 ms)', 'capturing': 'Kinetix, A24B723015\\r\\nBinning: 1x1\\r\\nBit Depth: 12-bit\\r\\nExposure: 150 ms\\r\\nReadout Speed: 100.0MHz\\r\\nMultiplier: Off\\r\\nCamera Mode: 12-bit (CMS)\\r\\nTemperature: 0.0°C\\r\\n\\r\\nConversion Gain: Sensitivity\\r\\nDenoise.ai OFF\\r\\nClarify.ai OFF\\r\\nDenoising: Off\\r\\nFan Speed: High\\r\\n', 'date': '03/07/2024  15:26:23', 'optics': 'S Plan Fluor LWD 20xC'}\n"
     ]
    }
   ],
   "source": [
    "# Define the raw image path\n",
    "raw_img_path = Path('./raw_data/20200703_20X_stage_repeatability/crosses_20x_green.nd2')\n",
    "\n",
    "# Construct the denoised image path using pathlib\n",
    "denoised_img_path = raw_img_path.with_name(f'{raw_img_path.stem} - Denoised.nd2')\n",
    "\n",
    "# Read raw and denoised images\n",
    "raw_img = nd2.imread(raw_img_path)\n",
    "denoised_img = nd2.imread(denoised_img_path)\n",
    "\n",
    "# Read the file and extract the metadata\n",
    "f = nd2.ND2File(raw_img_path)\n",
    "metadata = f.metadata\n",
    "\n",
    "# Extract and print the required metadata\n",
    "for channel in metadata.channels:\n",
    "    channel_meta = channel.channel\n",
    "    microscope = channel.microscope\n",
    "    volume = channel.volume\n",
    "    print(f\"Channel Name: {channel_meta.name}\")\n",
    "    print(f\"Index: {channel_meta.index}\")\n",
    "    print(f\"Emission Lambda: {channel_meta.emissionLambdaNm}\")\n",
    "    print(f\"Excitation Lambda: {channel_meta.excitationLambdaNm}\")\n",
    "    print(f\"Objective Name: {microscope.objectiveName}\")\n",
    "    print(f\"Modality Flags: {', '.join(microscope.modalityFlags)}\")\n",
    "    print(f'XYZ_pixel_size: {volume.axesCalibration}')\n",
    "    print()  # Add a blank line for readability\n",
    "\n",
    "# Print JSON info\n",
    "print(f.text_info)\n",
    "# Close file for garbage collection\n",
    "f.close()"
   ]
  },
  {
   "cell_type": "code",
   "execution_count": 4,
   "metadata": {},
   "outputs": [
    {
     "data": {
      "text/plain": [
       "Metadata(contents=Contents(channelCount=1, frameCount=654), channels=[Channel(channel=ChannelMeta(name='AR_green', index=0, color=Color(r=0, g=255, b=0, a=1.0), emissionLambdaNm=511.0, excitationLambdaNm=477.0), loops=LoopIndices(NETimeLoop=None, TimeLoop=0, XYPosLoop=1, ZStackLoop=None), microscope=Microscope(objectiveMagnification=20.0, objectiveName='S Plan Fluor LWD 20xC', objectiveNumericalAperture=0.7, zoomMagnification=1.0, immersionRefractiveIndex=1.0, projectiveMagnification=None, pinholeDiameterUm=50.0, modalityFlags=['fluorescence', 'spinningDiskConfocal']), volume=Volume(axesCalibrated=(True, True, False), axesCalibration=(0.330313846974365, 0.330313846974365, 1.0), axesInterpretation=('distance', 'distance', 'distance'), bitsPerComponentInMemory=16, bitsPerComponentSignificant=12, cameraTransformationMatrix=(-0.9999965534187834, 0.0026254810138932397, -0.0026254810138932397, -0.9999965534187834), componentCount=1, componentDataType='unsigned', voxelCount=(512, 512, 1), componentMaxima=[0.0], componentMinima=[0.0], pixelToStageTransformationMatrix=None))])"
      ]
     },
     "execution_count": 4,
     "metadata": {},
     "output_type": "execute_result"
    }
   ],
   "source": [
    "metadata"
   ]
  },
  {
   "cell_type": "code",
   "execution_count": 3,
   "metadata": {},
   "outputs": [
    {
     "name": "stderr",
     "output_type": "stream",
     "text": [
      "Invalid schema for package 'ome-types', please run 'npe2 validate ome-types' to check for manifest errors.\n"
     ]
    },
    {
     "data": {
      "text/plain": [
       "<Image layer 'denoised_img' at 0x24b445f86a0>"
      ]
     },
     "execution_count": 3,
     "metadata": {},
     "output_type": "execute_result"
    }
   ],
   "source": [
    "# Visualize results in Napari\n",
    "viewer = napari.Viewer(ndisplay=2)\n",
    "viewer.add_image(denoised_img)"
   ]
  }
 ],
 "metadata": {
  "kernelspec": {
   "display_name": "microglia_GPU",
   "language": "python",
   "name": "python3"
  },
  "language_info": {
   "codemirror_mode": {
    "name": "ipython",
    "version": 3
   },
   "file_extension": ".py",
   "mimetype": "text/x-python",
   "name": "python",
   "nbconvert_exporter": "python",
   "pygments_lexer": "ipython3",
   "version": "3.9.19"
  }
 },
 "nbformat": 4,
 "nbformat_minor": 2
}
